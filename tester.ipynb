{
 "cells": [
  {
   "cell_type": "code",
   "execution_count": null,
   "metadata": {},
   "outputs": [],
   "source": [
    "%load_ext autoreload\n",
    "%autoreload 2"
   ]
  },
  {
   "attachments": {},
   "cell_type": "markdown",
   "metadata": {},
   "source": [
    "## Creating variations of images"
   ]
  },
  {
   "cell_type": "code",
   "execution_count": null,
   "metadata": {},
   "outputs": [],
   "source": [
    "import os\n",
    "from utils import Utils\n",
    "import uuid\n",
    "\n",
    "Utils.load_key()\n",
    "\n",
    "url = \"https://s3.amazonaws.com/CFSV2/obituaries/photos/9995/995933/5fc571372bb52.JPG\"\n",
    "file_id = \"milo\"\n",
    "file_dir = f\"./tmp/{file_id}\"\n",
    "os.makedirs(file_dir, exist_ok=True)\n",
    "\n",
    "img = Utils.download_image(url)\n",
    "img = Utils.crop_image(img)\n",
    "img.save(f\"{file_dir}/orig.png\")\n",
    "\n",
    "\n",
    "res = Utils.create_variation(img, 5)\n",
    "for i, d in enumerate(res.data):\n",
    "    img2 = Utils.download_image(d.url)\n",
    "    img2.save(f\"{file_dir}/{i}.png\")\n",
    "    # img2.show()"
   ]
  },
  {
   "attachments": {},
   "cell_type": "markdown",
   "metadata": {},
   "source": [
    "## Harvesting twitter"
   ]
  },
  {
   "attachments": {},
   "cell_type": "markdown",
   "metadata": {},
   "source": [
    "#### Scrape some queries"
   ]
  },
  {
   "cell_type": "code",
   "execution_count": null,
   "metadata": {},
   "outputs": [],
   "source": [
    "import twit_scraper as ts\n",
    "\n",
    "queries = ['edgelord', 'overwatch', 'toxic gamers']\n",
    "for query in queries:\n",
    "    output_dir = f'./tmp/{query.replace(\" \", \"_\")}'\n",
    "    scraper = ts.scrape_search(query)\n",
    "    ts.run_scraper(scraper, output_dir)\n"
   ]
  },
  {
   "cell_type": "markdown",
   "metadata": {},
   "source": [
    "#### Scrape a user's tweets"
   ]
  },
  {
   "cell_type": "code",
   "execution_count": null,
   "metadata": {},
   "outputs": [],
   "source": [
    "import twit_scraper as ts\n",
    "\n",
    "output_dir = f'./tmp/{query.replace(\" \", \"_\")}'\n",
    "scraper = ts.scrape_user(\"mtgreenee\")\n",
    "ts.run_scraper(scraper, output_dir)"
   ]
  },
  {
   "cell_type": "code",
   "execution_count": 38,
   "metadata": {},
   "outputs": [],
   "source": [
    "import openai\n",
    "\n",
    "response = openai.Completion.create(\n",
    "  model=\"text-davinci-003\",\n",
    "  prompt=\"\"\"\n",
    "  Create an analogy for this phrase:\n",
    "  \n",
    "  Laura Loomer is mentally unstable and a documented liar:\n",
    "  \"\"\",\n",
    "  temperature=0.5,\n",
    "  max_tokens=60,\n",
    "  top_p=1.0,\n",
    "  frequency_penalty=0.0,\n",
    "  presence_penalty=0.0\n",
    ")"
   ]
  },
  {
   "cell_type": "code",
   "execution_count": null,
   "metadata": {},
   "outputs": [],
   "source": [
    "response"
   ]
  },
  {
   "cell_type": "code",
   "execution_count": null,
   "metadata": {},
   "outputs": [],
   "source": [
    "response = openai.Completion.create(\n",
    "  model=\"text-davinci-003\",\n",
    "  prompt=\"\"\"\n",
    "  I don’t expect @JoyVBehar to read this because she only attacks me on The View for ratings instead of taking the time to educate herself or even talk to the people she  judges and lies about on a daily basis.  \n",
    "  Ignorant, disconnected, and self righteous.\n",
    "  \n",
    "  Tl;dr\n",
    "  \"\"\",\n",
    "  temperature=0.7,\n",
    "  max_tokens=60,\n",
    "  top_p=1.0,\n",
    "  frequency_penalty=0.0,\n",
    "  presence_penalty=1\n",
    ")"
   ]
  },
  {
   "cell_type": "code",
   "execution_count": null,
   "metadata": {},
   "outputs": [],
   "source": [
    "response"
   ]
  },
  {
   "cell_type": "code",
   "execution_count": null,
   "metadata": {},
   "outputs": [],
   "source": [
    "\n",
    "response = openai.Completion.create(\n",
    "  model=\"text-davinci-003\",\n",
    "  prompt=\"\"\"Summarize this for a second-grade student:\n",
    "  \n",
    "  Laura Loomer is mentally unstable and a documented liar. \n",
    "\n",
    "  She can not be trusted.\n",
    "\n",
    "  She spent months lying about me and attacking me just because I supported Kevin McCarthy for Speaker and after I had refused to endorse her last election cycle. \n",
    "\n",
    "  She loves the alleged FBI… https://t.co/1D78hU59Z0\n",
    "  \"\"\",\n",
    "  temperature=0.7,\n",
    "  max_tokens=64,\n",
    "  top_p=1.0,\n",
    "  frequency_penalty=0.0,\n",
    "  presence_penalty=0.0\n",
    ")"
   ]
  },
  {
   "cell_type": "code",
   "execution_count": null,
   "metadata": {},
   "outputs": [],
   "source": [
    "response"
   ]
  },
  {
   "cell_type": "code",
   "execution_count": null,
   "metadata": {},
   "outputs": [],
   "source": []
  }
 ],
 "metadata": {
  "kernelspec": {
   "display_name": "Python 3",
   "language": "python",
   "name": "python3"
  },
  "language_info": {
   "codemirror_mode": {
    "name": "ipython",
    "version": 3
   },
   "file_extension": ".py",
   "mimetype": "text/x-python",
   "name": "python",
   "nbconvert_exporter": "python",
   "pygments_lexer": "ipython3",
   "version": "3.11.2"
  },
  "orig_nbformat": 4
 },
 "nbformat": 4,
 "nbformat_minor": 2
}
