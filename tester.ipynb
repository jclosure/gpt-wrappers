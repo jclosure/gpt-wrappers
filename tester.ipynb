{
 "cells": [
  {
   "cell_type": "code",
   "execution_count": null,
   "metadata": {},
   "outputs": [],
   "source": [
    "%load_ext autoreload\n",
    "%autoreload 2"
   ]
  },
  {
   "attachments": {},
   "cell_type": "markdown",
   "metadata": {},
   "source": [
    "## Creating variations of images"
   ]
  },
  {
   "cell_type": "code",
   "execution_count": null,
   "metadata": {},
   "outputs": [],
   "source": [
    "import os\n",
    "from utils import Utils\n",
    "import uuid\n",
    "\n",
    "Utils.load_key()\n",
    "\n",
    "url = \"https://s3.amazonaws.com/CFSV2/obituaries/photos/9995/995933/5fc571372bb52.JPG\"\n",
    "file_id = \"milo\"\n",
    "file_dir = f\"./tmp/{file_id}\"\n",
    "os.makedirs(file_dir, exist_ok=True)\n",
    "\n",
    "img = Utils.download_image(url)\n",
    "img = Utils.crop_image(img)\n",
    "img.save(f\"{file_dir}/orig.png\")\n",
    "\n",
    "\n",
    "res = Utils.create_variation(img, 5)\n",
    "for i, d in enumerate(res.data):\n",
    "    img2 = Utils.download_image(d.url)\n",
    "    img2.save(f\"{file_dir}/{i}.png\")\n",
    "    # img2.show()"
   ]
  },
  {
   "attachments": {},
   "cell_type": "markdown",
   "metadata": {},
   "source": [
    "## Harvesting twitter"
   ]
  },
  {
   "attachments": {},
   "cell_type": "markdown",
   "metadata": {},
   "source": [
    "#### Scrape some queries"
   ]
  },
  {
   "cell_type": "code",
   "execution_count": null,
   "metadata": {},
   "outputs": [],
   "source": [
    "import twit_scraper as ts\n",
    "\n",
    "queries = ['edgelord', 'overwatch', 'toxic gamers']\n",
    "for query in queries:\n",
    "    output_dir = f'./tmp/{query.replace(\" \", \"_\")}'\n",
    "    scraper = ts.scrape_search(query)\n",
    "    ts.run_scraper(scraper, output_dir)\n"
   ]
  },
  {
   "cell_type": "markdown",
   "metadata": {},
   "source": [
    "#### Scrape a user's tweets"
   ]
  },
  {
   "cell_type": "code",
   "execution_count": null,
   "metadata": {},
   "outputs": [],
   "source": [
    "import twit_scraper as ts\n",
    "\n",
    "output_dir = f'./tmp/{query.replace(\" \", \"_\")}'\n",
    "scraper = ts.scrape_user(\"mtgreenee\")\n",
    "ts.run_scraper(scraper, output_dir)"
   ]
  },
  {
   "attachments": {},
   "cell_type": "markdown",
   "metadata": {},
   "source": [
    "##### Plug in some tweets to various openai tools"
   ]
  },
  {
   "attachments": {},
   "cell_type": "markdown",
   "metadata": {},
   "source": [
    "#### Tricks"
   ]
  },
  {
   "cell_type": "code",
   "execution_count": 90,
   "metadata": {},
   "outputs": [
    {
     "data": {
      "text/plain": [
       "'\\nIt was like finding a needle in a haystack: Tim Burton discovered an old, forgotten manuscript written by J.K. Rowling, and it was still in perfect condition.'"
      ]
     },
     "execution_count": 90,
     "metadata": {},
     "output_type": "execute_result"
    }
   ],
   "source": [
    "# negate or turn a tweet into the opposite\n",
    "import tricks\n",
    "\n",
    "content = \"\"\"\n",
    "Buzz Aldrin left a pen on the moon after the first visit. Eugene Cernan, the last moon walker, found it. It still worked.\n",
    "\"\"\"\n",
    "\n",
    "flipped = tricks.opposite(content)\n",
    "flipped\n",
    "\n",
    "summarized = tricks.summarize(flipped)\n",
    "summarized\n",
    "\n",
    "analogy = tricks.analogy(summarized)\n",
    "analogy"
   ]
  },
  {
   "attachments": {},
   "cell_type": "markdown",
   "metadata": {},
   "source": [
    "#### Read tweets to dataframe"
   ]
  },
  {
   "cell_type": "code",
   "execution_count": 94,
   "metadata": {},
   "outputs": [],
   "source": [
    "tweets = ts.file_to_list('./tmp/overwatch/tweets.txt')\n",
    "new_contents = []\n",
    "for tweet in tweets:\n",
    "    content = tweet['rawContent']\n",
    "    flipped = tricks.opposite(content)\n",
    "    summarized = tricks.summarize(flipped)\n",
    "    analogy = tricks.analogy(summarized)\n",
    "    new_contents.append(analogy)\n",
    "new_contents"
   ]
  },
  {
   "cell_type": "code",
   "execution_count": null,
   "metadata": {},
   "outputs": [],
   "source": [
    "with open('./tmp/overwatch/new_contents.txt', 'r') as f:\n",
    "    for c in new_contents:\n",
    "        f.write(\"%s\\n\" % c)"
   ]
  }
 ],
 "metadata": {
  "kernelspec": {
   "display_name": "Python 3",
   "language": "python",
   "name": "python3"
  },
  "language_info": {
   "codemirror_mode": {
    "name": "ipython",
    "version": 3
   },
   "file_extension": ".py",
   "mimetype": "text/x-python",
   "name": "python",
   "nbconvert_exporter": "python",
   "pygments_lexer": "ipython3",
   "version": "3.11.2"
  },
  "orig_nbformat": 4
 },
 "nbformat": 4,
 "nbformat_minor": 2
}
